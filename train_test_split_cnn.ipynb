{
 "cells": [
  {
   "cell_type": "markdown",
   "id": "4e1a6cf4-dff9-42aa-b420-3dc18b8eb13e",
   "metadata": {
    "jupyter": {
     "outputs_hidden": true
    },
    "tags": []
   },
   "source": [
    "## first way to train_test_split"
   ]
  },
  {
   "cell_type": "code",
   "execution_count": null,
   "id": "5add0801-b85a-4fe0-bf32-81528cab2775",
   "metadata": {},
   "outputs": [],
   "source": [
    "import glob\n",
    "import numpy as np\n",
    "\n",
    "car = glob.glob('full_dataset/car/*.*')\n",
    "bike = glob.glob('full_dataset/bike/*.*')\n",
    "ship = glob.glob('full_dataset/ship/*.*')\n",
    "airplane = glob.glob('full_dataset/airplane/*.*')\n",
    "\n",
    "data = []\n",
    "labels = []\n",
    "\n",
    "for i in car:   \n",
    "    image=tf.keras.preprocessing.image.load_img(i, color_mode='RGB', \n",
    "    target_size= (280,280))\n",
    "    image=np.array(image)\n",
    "    data.append(image)\n",
    "    labels.append(0)\n",
    "for i in bike:   \n",
    "    image=tf.keras.preprocessing.image.load_img(i, color_mode='RGB', \n",
    "    target_size= (280,280))\n",
    "    image=np.array(image)\n",
    "    data.append(image)\n",
    "    labels.append(1)\n",
    "for i in ship:   \n",
    "    image=tf.keras.preprocessing.image.load_img(i, color_mode='RGB', \n",
    "    target_size= (280,280))\n",
    "    image=np.array(image)\n",
    "    data.append(image)\n",
    "    labels.append(2)\n",
    "for i in airplane:   \n",
    "    image=tf.keras.preprocessing.image.load_img(i, color_mode='RGB', \n",
    "    target_size= (280,280))\n",
    "    image=np.array(image)\n",
    "    data.append(image)\n",
    "    labels.append(3)\n",
    "\n",
    "data = np.array(data)\n",
    "labels = np.array(labels)\n",
    "\n",
    "from sklearn.model_selection import train_test_split\n",
    "X_train, X_test, ytrain, ytest = train_test_split(data, labels, test_size=0.2, random_state=42)"
   ]
  },
  {
   "cell_type": "markdown",
   "id": "262fd18e-0bdf-4e9f-aeca-d8ab96390488",
   "metadata": {},
   "source": [
    "## second way to use validation data from same directory"
   ]
  },
  {
   "cell_type": "code",
   "execution_count": null,
   "id": "2b8842f5-375c-40c9-917a-6f9f4894a4d3",
   "metadata": {},
   "outputs": [],
   "source": [
    "image_generator = ImageDataGenerator(rescale=1/255, validation_split=0.2)    \n",
    "\n",
    "train_dataset = image_generator.flow_from_directory(batch_size=32,\n",
    "                                                 directory='full_dataset',\n",
    "                                                 shuffle=True,\n",
    "                                                 target_size=(280, 280), \n",
    "                                                 subset=\"training\",\n",
    "                                                 class_mode='categorical')\n",
    "\n",
    "validation_dataset = image_generator.flow_from_directory(batch_size=32,\n",
    "                                                 directory='full_dataset',\n",
    "                                                 shuffle=True,\n",
    "                                                 target_size=(280, 280), \n",
    "                                                 subset=\"validation\",\n",
    "                                                 class_mode='categorical')"
   ]
  }
 ],
 "metadata": {
  "kernelspec": {
   "display_name": "Python 3 (ipykernel)",
   "language": "python",
   "name": "python3"
  },
  "language_info": {
   "codemirror_mode": {
    "name": "ipython",
    "version": 3
   },
   "file_extension": ".py",
   "mimetype": "text/x-python",
   "name": "python",
   "nbconvert_exporter": "python",
   "pygments_lexer": "ipython3",
   "version": "3.8.12"
  }
 },
 "nbformat": 4,
 "nbformat_minor": 5
}
